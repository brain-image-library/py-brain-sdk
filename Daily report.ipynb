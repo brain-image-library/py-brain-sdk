{
 "cells": [
  {
   "cell_type": "code",
   "execution_count": null,
   "id": "80903063-f303-4374-ab01-648baddef8b9",
   "metadata": {},
   "outputs": [],
   "source": [
    "import brainimagelibrary as brainzzz\n",
    "import pandas as pd\n",
    "\n",
    "from pandarallel import pandarallel\n",
    "\n",
    "# Initialize pandarallel with 16 workers\n",
    "pandarallel.initialize(progress_bar=True, nb_workers=16)"
   ]
  },
  {
   "cell_type": "code",
   "execution_count": null,
   "id": "b6bdf11b-7d69-4165-985c-401e02f31bad",
   "metadata": {},
   "outputs": [],
   "source": [
    "report = brainzzz.reports.__create_daily_report()"
   ]
  },
  {
   "cell_type": "code",
   "execution_count": null,
   "id": "bdf2fd92-3f08-44f8-85e5-2436ba61c98e",
   "metadata": {},
   "outputs": [],
   "source": [
    "# Assuming 'report' is your DataFrame\n",
    "report['gscholar'] = report['bildid'].parallel_apply(brainzzz.dois.__get_number_of_citations_from_gscholar)"
   ]
  },
  {
   "cell_type": "code",
   "execution_count": null,
   "id": "091f48b6-bc88-4e57-bc4d-1d1e01651d36",
   "metadata": {},
   "outputs": [],
   "source": [
    "report['datacite'] = report['bildid'].parallel_apply(brainzzz.dois.__get_number_of_citations_from_gscholar)"
   ]
  }
 ],
 "metadata": {
  "kernelspec": {
   "display_name": "Python 3 (ipykernel)",
   "language": "python",
   "name": "python3"
  },
  "language_info": {
   "codemirror_mode": {
    "name": "ipython",
    "version": 3
   },
   "file_extension": ".py",
   "mimetype": "text/x-python",
   "name": "python",
   "nbconvert_exporter": "python",
   "pygments_lexer": "ipython3",
   "version": "3.11.4"
  }
 },
 "nbformat": 4,
 "nbformat_minor": 5
}
